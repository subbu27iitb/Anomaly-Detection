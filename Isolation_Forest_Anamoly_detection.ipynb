{
  "nbformat": 4,
  "nbformat_minor": 0,
  "metadata": {
    "colab": {
      "name": "Isolation Forest_Anamoly detection.ipynb",
      "provenance": [],
      "authorship_tag": "ABX9TyP2bPkQ6T0vDtbBvPd/YBu3",
      "include_colab_link": true
    },
    "kernelspec": {
      "name": "python3",
      "display_name": "Python 3"
    },
    "language_info": {
      "name": "python"
    }
  },
  "cells": [
    {
      "cell_type": "markdown",
      "metadata": {
        "id": "view-in-github",
        "colab_type": "text"
      },
      "source": [
        "<a href=\"https://colab.research.google.com/github/subbu27iitb/Anomaly-Detection/blob/main/Isolation_Forest_Anamoly_detection.ipynb\" target=\"_parent\"><img src=\"https://colab.research.google.com/assets/colab-badge.svg\" alt=\"Open In Colab\"/></a>"
      ]
    },
    {
      "cell_type": "markdown",
      "source": [
        "**Reference**\n",
        "\n",
        "https://www.youtube.com/watch?v=DoUhCLbLeH0\n",
        "\n",
        "https://grabngoinfo.com/isolation-forest-for-anomaly-detection-and-imbalanced-classification/"
      ],
      "metadata": {
        "id": "mTcNGo8IIayL"
      }
    },
    {
      "cell_type": "code",
      "execution_count": 2,
      "metadata": {
        "id": "REpzBkveH6D8"
      },
      "outputs": [],
      "source": [
        "#Synthetic dataset\n",
        "from sklearn.datasets import make_classification\n",
        "#Data processing\n",
        "import pandas as pd\n",
        "import numpy as np\n",
        "from collections import Counter\n",
        "# Model and performance\n",
        "from sklearn.ensemble import IsolationForest\n",
        "from sklearn.model_selection import train_test_split\n",
        "from sklearn.metrics import classification_report"
      ]
    },
    {
      "cell_type": "markdown",
      "source": [
        "Create Imbalanced Dataser"
      ],
      "metadata": {
        "id": "bePNNdUiNlsj"
      }
    },
    {
      "cell_type": "code",
      "source": [
        "# Create an imbalanced dataset\n",
        "X, y = make_classification(n_samples=100000, n_features=2, n_informative=2,\n",
        "                           n_redundant=0, n_repeated=0, n_classes=2,\n",
        "                           n_clusters_per_class=1,\n",
        "                           weights=[0.995, 0.005],\n",
        "                           class_sep=0.5, random_state=0)\n",
        "# Convert the data from numpy array to a pandas dataframe\n",
        "df = pd.DataFrame({'feature1': X[:, 0], 'feature2': X[:, 1], 'target': y})\n",
        "# Check the target distribution\n",
        "df['target'].value_counts(normalize = True)\n"
      ],
      "metadata": {
        "colab": {
          "base_uri": "https://localhost:8080/"
        },
        "id": "L44jFGRlNrrJ",
        "outputId": "ef971101-99d4-4319-d09f-824bf4eba648"
      },
      "execution_count": 29,
      "outputs": [
        {
          "output_type": "execute_result",
          "data": {
            "text/plain": [
              "0    0.9897\n",
              "1    0.0103\n",
              "Name: target, dtype: float64"
            ]
          },
          "metadata": {},
          "execution_count": 29
        }
      ]
    },
    {
      "cell_type": "code",
      "source": [
        "   #check\n",
        "df.head()"
      ],
      "metadata": {
        "colab": {
          "base_uri": "https://localhost:8080/",
          "height": 206
        },
        "id": "mt5Ik7lZSCJ9",
        "outputId": "0ad2f3da-716b-49bc-b521-0ad9cff2dad2"
      },
      "execution_count": 30,
      "outputs": [
        {
          "output_type": "execute_result",
          "data": {
            "text/plain": [
              "   feature1  feature2  target\n",
              "0  1.236497  0.579272       0\n",
              "1 -0.188720 -0.022001       0\n",
              "2 -0.653844  0.794309       0\n",
              "3  0.005572  0.593370       0\n",
              "4  0.482573  0.796902       0"
            ],
            "text/html": [
              "\n",
              "  <div id=\"df-8aa71d2a-f3a5-4c64-b2e8-0fe60585258f\">\n",
              "    <div class=\"colab-df-container\">\n",
              "      <div>\n",
              "<style scoped>\n",
              "    .dataframe tbody tr th:only-of-type {\n",
              "        vertical-align: middle;\n",
              "    }\n",
              "\n",
              "    .dataframe tbody tr th {\n",
              "        vertical-align: top;\n",
              "    }\n",
              "\n",
              "    .dataframe thead th {\n",
              "        text-align: right;\n",
              "    }\n",
              "</style>\n",
              "<table border=\"1\" class=\"dataframe\">\n",
              "  <thead>\n",
              "    <tr style=\"text-align: right;\">\n",
              "      <th></th>\n",
              "      <th>feature1</th>\n",
              "      <th>feature2</th>\n",
              "      <th>target</th>\n",
              "    </tr>\n",
              "  </thead>\n",
              "  <tbody>\n",
              "    <tr>\n",
              "      <th>0</th>\n",
              "      <td>1.236497</td>\n",
              "      <td>0.579272</td>\n",
              "      <td>0</td>\n",
              "    </tr>\n",
              "    <tr>\n",
              "      <th>1</th>\n",
              "      <td>-0.188720</td>\n",
              "      <td>-0.022001</td>\n",
              "      <td>0</td>\n",
              "    </tr>\n",
              "    <tr>\n",
              "      <th>2</th>\n",
              "      <td>-0.653844</td>\n",
              "      <td>0.794309</td>\n",
              "      <td>0</td>\n",
              "    </tr>\n",
              "    <tr>\n",
              "      <th>3</th>\n",
              "      <td>0.005572</td>\n",
              "      <td>0.593370</td>\n",
              "      <td>0</td>\n",
              "    </tr>\n",
              "    <tr>\n",
              "      <th>4</th>\n",
              "      <td>0.482573</td>\n",
              "      <td>0.796902</td>\n",
              "      <td>0</td>\n",
              "    </tr>\n",
              "  </tbody>\n",
              "</table>\n",
              "</div>\n",
              "      <button class=\"colab-df-convert\" onclick=\"convertToInteractive('df-8aa71d2a-f3a5-4c64-b2e8-0fe60585258f')\"\n",
              "              title=\"Convert this dataframe to an interactive table.\"\n",
              "              style=\"display:none;\">\n",
              "        \n",
              "  <svg xmlns=\"http://www.w3.org/2000/svg\" height=\"24px\"viewBox=\"0 0 24 24\"\n",
              "       width=\"24px\">\n",
              "    <path d=\"M0 0h24v24H0V0z\" fill=\"none\"/>\n",
              "    <path d=\"M18.56 5.44l.94 2.06.94-2.06 2.06-.94-2.06-.94-.94-2.06-.94 2.06-2.06.94zm-11 1L8.5 8.5l.94-2.06 2.06-.94-2.06-.94L8.5 2.5l-.94 2.06-2.06.94zm10 10l.94 2.06.94-2.06 2.06-.94-2.06-.94-.94-2.06-.94 2.06-2.06.94z\"/><path d=\"M17.41 7.96l-1.37-1.37c-.4-.4-.92-.59-1.43-.59-.52 0-1.04.2-1.43.59L10.3 9.45l-7.72 7.72c-.78.78-.78 2.05 0 2.83L4 21.41c.39.39.9.59 1.41.59.51 0 1.02-.2 1.41-.59l7.78-7.78 2.81-2.81c.8-.78.8-2.07 0-2.86zM5.41 20L4 18.59l7.72-7.72 1.47 1.35L5.41 20z\"/>\n",
              "  </svg>\n",
              "      </button>\n",
              "      \n",
              "  <style>\n",
              "    .colab-df-container {\n",
              "      display:flex;\n",
              "      flex-wrap:wrap;\n",
              "      gap: 12px;\n",
              "    }\n",
              "\n",
              "    .colab-df-convert {\n",
              "      background-color: #E8F0FE;\n",
              "      border: none;\n",
              "      border-radius: 50%;\n",
              "      cursor: pointer;\n",
              "      display: none;\n",
              "      fill: #1967D2;\n",
              "      height: 32px;\n",
              "      padding: 0 0 0 0;\n",
              "      width: 32px;\n",
              "    }\n",
              "\n",
              "    .colab-df-convert:hover {\n",
              "      background-color: #E2EBFA;\n",
              "      box-shadow: 0px 1px 2px rgba(60, 64, 67, 0.3), 0px 1px 3px 1px rgba(60, 64, 67, 0.15);\n",
              "      fill: #174EA6;\n",
              "    }\n",
              "\n",
              "    [theme=dark] .colab-df-convert {\n",
              "      background-color: #3B4455;\n",
              "      fill: #D2E3FC;\n",
              "    }\n",
              "\n",
              "    [theme=dark] .colab-df-convert:hover {\n",
              "      background-color: #434B5C;\n",
              "      box-shadow: 0px 1px 3px 1px rgba(0, 0, 0, 0.15);\n",
              "      filter: drop-shadow(0px 1px 2px rgba(0, 0, 0, 0.3));\n",
              "      fill: #FFFFFF;\n",
              "    }\n",
              "  </style>\n",
              "\n",
              "      <script>\n",
              "        const buttonEl =\n",
              "          document.querySelector('#df-8aa71d2a-f3a5-4c64-b2e8-0fe60585258f button.colab-df-convert');\n",
              "        buttonEl.style.display =\n",
              "          google.colab.kernel.accessAllowed ? 'block' : 'none';\n",
              "\n",
              "        async function convertToInteractive(key) {\n",
              "          const element = document.querySelector('#df-8aa71d2a-f3a5-4c64-b2e8-0fe60585258f');\n",
              "          const dataTable =\n",
              "            await google.colab.kernel.invokeFunction('convertToInteractive',\n",
              "                                                     [key], {});\n",
              "          if (!dataTable) return;\n",
              "\n",
              "          const docLinkHtml = 'Like what you see? Visit the ' +\n",
              "            '<a target=\"_blank\" href=https://colab.research.google.com/notebooks/data_table.ipynb>data table notebook</a>'\n",
              "            + ' to learn more about interactive tables.';\n",
              "          element.innerHTML = '';\n",
              "          dataTable['output_type'] = 'display_data';\n",
              "          await google.colab.output.renderOutput(dataTable, element);\n",
              "          const docLink = document.createElement('div');\n",
              "          docLink.innerHTML = docLinkHtml;\n",
              "          element.appendChild(docLink);\n",
              "        }\n",
              "      </script>\n",
              "    </div>\n",
              "  </div>\n",
              "  "
            ]
          },
          "metadata": {},
          "execution_count": 30
        }
      ]
    },
    {
      "cell_type": "code",
      "source": [
        "  #Train Test Split\n",
        "X_train, X_test, y_train, y_test = train_test_split(X, y, test_size=0.2, random_state=42)\n",
        " #Check the number of records\n",
        "print('The number of records in the training dataset is', X_train.shape[0])\n",
        "print('The number of records in the test dataset is', X_test.shape[0])\n",
        "print(f\"The training dataset has {sorted(Counter(y_train).items())[0][1]} records for the majority class and {sorted(Counter(y_train).items())[1][1]} records for the minority class.\")"
      ],
      "metadata": {
        "colab": {
          "base_uri": "https://localhost:8080/"
        },
        "id": "b7HmUfBbS1LW",
        "outputId": "11ff8c6d-3b6c-40d6-d288-da4194fe33d9"
      },
      "execution_count": 31,
      "outputs": [
        {
          "output_type": "stream",
          "name": "stdout",
          "text": [
            "The number of records in the training dataset is 80000\n",
            "The number of records in the test dataset is 20000\n",
            "The training dataset has 79183 records for the majority class and 817 records for the minority class.\n"
          ]
        }
      ]
    },
    {
      "cell_type": "code",
      "source": [
        " #check\n",
        "#Counter(y_train)\n",
        "Counter(y_train).items()"
      ],
      "metadata": {
        "colab": {
          "base_uri": "https://localhost:8080/"
        },
        "id": "GY_wiZmlTYwU",
        "outputId": "95de5984-eab2-43b1-db7d-1b2ba8e86815"
      },
      "execution_count": 32,
      "outputs": [
        {
          "output_type": "execute_result",
          "data": {
            "text/plain": [
              "dict_items([(0, 79183), (1, 817)])"
            ]
          },
          "metadata": {},
          "execution_count": 32
        }
      ]
    },
    {
      "cell_type": "code",
      "source": [
        "# Train the isolation forest model\n",
        "if_model = IsolationForest(n_estimators=100, random_state=0).fit(X_train)\n",
        "# Predict the anomalies\n",
        "if_prediction = if_model.predict(X_test)\n",
        "# Change the anomalies' values to make it consistent with the true values\n",
        "if_prediction = [1 if i==-1 else 0 for i in if_prediction]\n",
        "# Check the model performance\n",
        "print(classification_report(y_test, if_prediction))"
      ],
      "metadata": {
        "colab": {
          "base_uri": "https://localhost:8080/"
        },
        "id": "Ve_ho6O-TpXy",
        "outputId": "7b8858df-0c58-4d6d-a3bc-a85d970ba4c4"
      },
      "execution_count": 33,
      "outputs": [
        {
          "output_type": "stream",
          "name": "stdout",
          "text": [
            "              precision    recall  f1-score   support\n",
            "\n",
            "           0       0.99      0.79      0.88     19787\n",
            "           1       0.02      0.40      0.04       213\n",
            "\n",
            "    accuracy                           0.78     20000\n",
            "   macro avg       0.51      0.59      0.46     20000\n",
            "weighted avg       0.98      0.78      0.87     20000\n",
            "\n"
          ]
        }
      ]
    },
    {
      "cell_type": "markdown",
      "source": [
        "Isolation Forest with warm start on New data"
      ],
      "metadata": {
        "id": "UvxhrIRKWwo_"
      }
    },
    {
      "cell_type": "code",
      "source": [
        "# Create more imbalanced data\n",
        "X_more, y_more = make_classification(n_samples=5000, n_features=2, n_informative=2,\n",
        "                           n_redundant=0, n_repeated=0, n_classes=2,\n",
        "                           n_clusters_per_class=1,\n",
        "                           weights=[0.995, 0.005],\n",
        "                           class_sep=0.5, random_state=0)"
      ],
      "metadata": {
        "id": "5QMmyeo6W2jL"
      },
      "execution_count": 36,
      "outputs": []
    },
    {
      "cell_type": "code",
      "source": [
        "# Train the isolation forest model\n",
        "if_model = IsolationForest(n_estimators=100, random_state=0, warm_start=True).fit(X_train)\n",
        "# Use new data to train 50 trees on top of existing model \n",
        "if_model.n_estimators += 50\n",
        "if_model.fit(X_more)\n",
        "# Predict the anomalies\n",
        "if_prediction = if_model.predict(X_test)\n",
        "# Change the anomalies' values to make it consistent with the true values\n",
        "if_prediction = [1 if i==-1 else 0 for i in if_prediction]\n",
        "# Check the model performance\n",
        "print(classification_report(y_test, if_prediction))"
      ],
      "metadata": {
        "colab": {
          "base_uri": "https://localhost:8080/"
        },
        "id": "Z8FVdWdrXer9",
        "outputId": "f37c99c9-9493-498c-af9f-2be4d74ba6c9"
      },
      "execution_count": 37,
      "outputs": [
        {
          "output_type": "stream",
          "name": "stdout",
          "text": [
            "              precision    recall  f1-score   support\n",
            "\n",
            "           0       0.99      0.73      0.84     19787\n",
            "           1       0.02      0.40      0.03       213\n",
            "\n",
            "    accuracy                           0.73     20000\n",
            "   macro avg       0.50      0.57      0.44     20000\n",
            "weighted avg       0.98      0.73      0.83     20000\n",
            "\n"
          ]
        }
      ]
    },
    {
      "cell_type": "markdown",
      "source": [
        " Isolation Forest With Warm Start On New Trees"
      ],
      "metadata": {
        "id": "Fbpwl2JVXylz"
      }
    },
    {
      "cell_type": "code",
      "source": [
        "# Train the isolation forest model\n",
        "if_model = IsolationForest(n_estimators=100, random_state=0, warm_start=True).fit(X_train)\n",
        "# Use the existing data to train 20 trees on top of existing model \n",
        "if_model.n_estimators += 20\n",
        "if_model.fit(X_train)\n",
        "# Predict the anomalies\n",
        "if_prediction = if_model.predict(X_test)\n",
        "# Change the anomalies' values to make it consistent with the true values\n",
        "if_prediction = [1 if i==-1 else 0 for i in if_prediction]\n",
        "# Check the model performance\n",
        "print(classification_report(y_test, if_prediction))"
      ],
      "metadata": {
        "colab": {
          "base_uri": "https://localhost:8080/"
        },
        "id": "k9Z1WzN8Xz4a",
        "outputId": "bc2d9dc6-0c9d-4239-e44b-11b346da8478"
      },
      "execution_count": 38,
      "outputs": [
        {
          "output_type": "stream",
          "name": "stdout",
          "text": [
            "              precision    recall  f1-score   support\n",
            "\n",
            "           0       0.99      0.79      0.88     19787\n",
            "           1       0.02      0.39      0.04       213\n",
            "\n",
            "    accuracy                           0.79     20000\n",
            "   macro avg       0.51      0.59      0.46     20000\n",
            "weighted avg       0.98      0.79      0.87     20000\n",
            "\n"
          ]
        }
      ]
    }
  ]
}